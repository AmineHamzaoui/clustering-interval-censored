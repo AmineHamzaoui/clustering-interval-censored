{
 "cells": [
  {
   "cell_type": "markdown",
   "metadata": {},
   "source": [
    "# Implement Dynamic Time Warping Baseline\n",
    "\n",
    "https://tslearn.readthedocs.io/en/stable/variablelength.html#clustering\n",
    "\n",
    "https://tslearn.readthedocs.io/en/stable/user_guide/clustering.html#clustering"
   ]
  },
  {
   "cell_type": "code",
   "execution_count": 16,
   "metadata": {},
   "outputs": [],
   "source": [
    "%matplotlib inline\n",
    "import matplotlib.pyplot as plt\n",
    "\n",
    "import numpy as np\n",
    "import pickle\n",
    "\n",
    "def clean_plot():\n",
    "    ax = plt.subplot(111)    \n",
    "    ax.spines[\"top\"].set_visible(False)    \n",
    "    ax.spines[\"bottom\"].set_visible(False)    \n",
    "    ax.spines[\"right\"].set_visible(False)    \n",
    "    ax.spines[\"left\"].set_visible(False)    \n",
    "    \n",
    "    ax.get_xaxis().tick_bottom()    \n",
    "    ax.get_yaxis().tick_left()   \n",
    "    plt.grid()\n",
    "\n",
    "import matplotlib.pylab as pylab\n",
    "params = {'legend.fontsize': 'x-large',\n",
    "#           'figure.figsize': (10,6),\n",
    "         'axes.labelsize': 'x-large',\n",
    "         'axes.titlesize':'x-large',\n",
    "         'xtick.labelsize':'x-large',\n",
    "         'ytick.labelsize':'x-large'}\n",
    "pylab.rcParams.update(params)\n",
    "\n",
    "from tslearn.clustering import TimeSeriesKMeans, KernelKMeans\n",
    "from tslearn.utils import to_time_series_dataset\n",
    "from sklearn.metrics import adjusted_rand_score"
   ]
  },
  {
   "cell_type": "code",
   "execution_count": 17,
   "metadata": {},
   "outputs": [],
   "source": [
    "import logging\n",
    "import numpy as np\n",
    "import torch\n",
    "import torch.nn as nn\n",
    "import torch.nn.functional as F\n",
    "\n",
    "# torch.manual_seed(0)\n",
    "# torch.backends.cudnn.deterministic = True\n",
    "# torch.backends.cudnn.benchmark = False\n",
    "\n",
    "\n",
    "from pyro.distributions import MultivariateNormal, Normal, Independent\n",
    "\n",
    "from sklearn.cluster import KMeans, SpectralClustering\n",
    "from sklearn.metrics import adjusted_rand_score\n",
    "\n",
    "import scipy\n",
    "from scipy.sparse import csgraph\n",
    "from scipy.sparse.linalg import eigsh\n",
    "\n",
    "import sys\n",
    "sys.path.append('../model/')\n",
    "from utils import check_has_missing, quad_function, convert_XY_pack_pad\n",
    "\n",
    "sys.path.append('../evaluation/')\n",
    "from eval_utils import get_cluster_swap_metric, get_cluster_pear_metric\n",
    "\n",
    "sys.path.append('../plot/')\n",
    "from plot_utils import plot_latent_labels, plot_delta_comp\n",
    "\n",
    "import matplotlib.pylab as pylab\n",
    "params = {'legend.fontsize': 'x-large',\n",
    "# 'figure.figsize': (10,6),\n",
    " 'axes.labelsize': 'x-large',\n",
    " 'axes.titlesize':'x-large',\n",
    " 'xtick.labelsize':'x-large',\n",
    " 'ytick.labelsize':'x-large'}\n",
    "pylab.rcParams.update(params)\n",
    "\n",
    "def get_hyperparameters(data_format_num):\n",
    "    if data_format_num < 3:\n",
    "        C, ds, dh, drnn, reg_type, lr = 0., 10, 20, 50, 'l1', 0.01\n",
    "    if data_format_num > 2:\n",
    "        C, ds, dh, drnn, reg_type, lr = 0., 20, 50, 100, 'l1', 0.01\n",
    "    if data_format_num == 5 or data_format_num == 3:\n",
    "        C, ds, dh, drnn, reg_type, lr = 0.01, 20, 20, 100, 'l2', 0.01\n",
    "    if data_format_num == 1:\n",
    "        C, ds, dh, drnn, reg_type, lr = 0.0, 20, 30, 150, 'l1', 0.001\n",
    "    return C, ds, dh, drnn, reg_type, lr\n",
    "\n",
    "\n",
    "sys.path.append('../model')\n",
    "from models import Sublign\n"
   ]
  },
  {
   "cell_type": "code",
   "execution_count": 18,
   "metadata": {},
   "outputs": [
    {
     "name": "stdout",
     "output_type": "stream",
     "text": [
      "Max visits: 17\n",
      "Max visits: 17\n"
     ]
    }
   ],
   "source": [
    "import argparse\n",
    "import os\n",
    "import sys\n",
    "sys.path.append('../data')\n",
    "sys.path.append('../plot')\n",
    "from load import sigmoid, quadratic, chf, parkinsons, load_data_format, load_synthetic_data, load_sigmoid_data\n",
    "from data_utils import parse_data, change_missing\n",
    "from plot_utils import plot_subtypes, plot_latent\n",
    "\n",
    "data_format_num = 11\n",
    "\n",
    "max_visits      = 17\n",
    "num_output_dims = 3\n",
    "use_sigmoid     = True\n",
    "epochs          = 100\n",
    "\n",
    "# Change configurations here\n",
    "\n",
    "# DOES NOT work\n",
    "# C, ds, dh, drnn, reg_type, lr = 0.0, 20, 30, 150, 'l1', 0.1\n",
    "\n",
    "# DOES work\n",
    "C, ds, dh, drnn, reg_type, lr = 0.0, 20, 30, 150, 'l1', 0.001\n",
    "\n",
    "configs = (C, ds, dh, drnn, reg_type, lr)\n",
    "data    = load_data_format(data_format_num, trial_num=0, cache=True)\n",
    "shuffle = False\n",
    "\n",
    "train_data_loader, train_data_dict, _, _, test_data_loader, test_data_dict, valid_pid, test_pid, unique_pid = parse_data(data.values, \n",
    "                                                                                                                         max_visits=max_visits, \n",
    "                                                                                                                         test_per=0.2, valid_per=0.2, \n",
    "                                                                                                                         shuffle=shuffle)\n",
    "data_loader, collect_dict, unique_pid = parse_data(data.values, max_visits=max_visits)\n",
    "\n",
    "# model = Sublign(ds, dh, drnn, C, num_output_dims, sigmoid=use_sigmoid, reg_type=reg_type, auto_delta=False, \n",
    "#                 max_delta=5, learn_time=True)\n",
    "\n",
    "# model.fit(train_data_loader, test_data_loader, epochs, lr, verbose=False, \n",
    "#           fname='data%d.pt' % (data_format_num), eval_freq=25, epoch_debug=False, \n",
    "#           plot_debug=False)\n",
    "\n",
    "\n",
    "# subtypes = model.get_subtypes(train_data_dict['obs_t_collect'], train_data_dict['Y_collect'], K=2)\n",
    "# train_results = model.score(train_data_dict, train_data_dict)\n",
    "# test_results  = model.score(train_data_dict, test_data_dict)\n",
    "\n",
    "# train_ari, train_swaps, train_pear = train_results['ari'], train_results['swaps'], train_results['pear']\n",
    "# test_ari, test_swaps, test_pear    = test_results['ari'], test_results['swaps'], test_results['pear']\n",
    "\n",
    "# Y = test_data_dict['Y_collect']\n",
    "# X = test_data_dict['obs_t_collect']\n",
    "# M = test_data_dict['mask_collect']\n",
    "# S = None\n",
    "\n",
    "# nelbo, nll, kl = model.get_loss(Y, S, X, M, anneal=1.)\n",
    "# # log_p = model.imp_sampling(X,Y,imp_samples=10)\n",
    "\n",
    "# # print ('Test NELBO:',nelbo.mean(), 'test log_p:',log_p)\n",
    "# nelbo, nll, kl = nelbo.mean().detach().numpy(), nll.mean().detach().numpy(), kl.mean().detach().numpy()\n",
    "\n",
    "# print('Train: ARI (up): %.3f, Swaps (down): %.3f, Pear (up): %.3f' % (train_ari, train_swaps, train_pear))\n",
    "# print('Test: ARI (up): %.3f, Swaps (down): %.3f, Pear (up): %.3f' % (test_ari, test_swaps, test_pear))\n",
    "# print('Test NELBO: %.3f, Test NLL: %.3f, Test KL: %.3f' % (nelbo, nll, kl))"
   ]
  },
  {
   "cell_type": "markdown",
   "metadata": {},
   "source": [
    "## Bring in dynamic time warping!"
   ]
  },
  {
   "cell_type": "code",
   "execution_count": 4,
   "metadata": {},
   "outputs": [],
   "source": [
    "import sys\n",
    "sys.path.append('../model')\n",
    "from utils import interpolate"
   ]
  },
  {
   "cell_type": "code",
   "execution_count": 24,
   "metadata": {},
   "outputs": [
    {
     "name": "stdout",
     "output_type": "stream",
     "text": [
      "Max visits: 17\n",
      "Test ARI: -0.0046\n",
      "Max visits: 17\n",
      "Test ARI: -0.0027\n",
      "Max visits: 17\n",
      "Test ARI: -0.0041\n",
      "Max visits: 17\n",
      "Test ARI: -0.0012\n",
      "Max visits: 17\n",
      "Test ARI: -0.0045\n",
      "Data 12, softdtw, mrnn: -0.003 $\\pm$ 0.001\n",
      "CPU times: user 3min 55s, sys: 0 ns, total: 3min 55s\n",
      "Wall time: 3min 55s\n"
     ]
    }
   ],
   "source": [
    "%%time\n",
    "\n",
    "# for trial_num in range(5):\n",
    "data_format_num = 12\n",
    "trial_num = 1\n",
    "\n",
    "results = []\n",
    "\n",
    "for trial_num in range(1,6):\n",
    "    data    = load_data_format(data_format_num, trial_num=trial_num)\n",
    "    shuffle = False\n",
    "\n",
    "    train_data_loader, train_data_dict, _, _, test_data_loader, test_data_dict, valid_pid, test_pid, unique_pid = parse_data(data.values, \n",
    "                                                                                                                             max_visits=max_visits, \n",
    "                                                                                                                             test_per=0.2, valid_per=0.2, \n",
    "                                                                                                                             shuffle=shuffle)\n",
    "\n",
    "    km = KernelKMeans(n_clusters=2)\n",
    "    metric = 'softdtw'\n",
    "    how_impute = 'mrnn'\n",
    "\n",
    "    km = TimeSeriesKMeans(n_clusters=2, metric=metric)\n",
    "\n",
    "    X_train = train_data_dict['Y_collect']\n",
    "    X_test  = test_data_dict['Y_collect']\n",
    "\n",
    "    M_train = train_data_dict['mask_collect']\n",
    "    T_train = train_data_dict['obs_t_collect']\n",
    "    \n",
    "    M_test  = test_data_dict['mask_collect']\n",
    "    T_test  = test_data_dict['obs_t_collect']\n",
    "    \n",
    "#     if data_format_num == 11 or data_format_num == 12:\n",
    "#         X_train = interpolate(X_train, m=M_train, t=T_train, how=how_impute)\n",
    "#         X_test  = interpolate(X_test, m=M_test, t=T_test, how=how_impute)\n",
    "\n",
    "    X_train = np.concatenate([X_train,train_data_dict['obs_t_collect']],axis=2)\n",
    "\n",
    "    y_train = train_data_dict['s_collect']\n",
    "\n",
    "    X_test = np.concatenate([X_test,test_data_dict['obs_t_collect']],axis=2)\n",
    "    y_test = test_data_dict['s_collect']\n",
    "\n",
    "    km.fit(X_train)\n",
    "    labels_test = km.predict(X_test)\n",
    "\n",
    "    test_ari = adjusted_rand_score(np.squeeze(y_test), labels_test)\n",
    "    print('Test ARI: %.4f' % test_ari)\n",
    "    results.append(test_ari)\n",
    "\n",
    "print('Data %d, %s, %s: %.3f $\\\\pm$ %.3f' % (data_format_num, metric, how_impute, np.mean(results), np.std(results)))"
   ]
  },
  {
   "cell_type": "code",
   "execution_count": null,
   "metadata": {},
   "outputs": [],
   "source": []
  },
  {
   "cell_type": "code",
   "execution_count": 25,
   "metadata": {},
   "outputs": [],
   "source": [
    "results = np.array([[0.960, 0.098, 0.457],\n",
    " [0.980, -0.096, 0.535],\n",
    " [1.000, 0.170, 0.447 ]])"
   ]
  },
  {
   "cell_type": "code",
   "execution_count": null,
   "metadata": {},
   "outputs": [],
   "source": [
    "for i, j in zip(results.mean(axis=0), results.std(axis=0)):\n",
    "    print('%.3f $\\\\pm$ %.3f' % (i,j),)"
   ]
  },
  {
   "cell_type": "code",
   "execution_count": 10,
   "metadata": {},
   "outputs": [
    {
     "data": {
      "text/plain": [
       "False"
      ]
     },
     "execution_count": 10,
     "metadata": {},
     "output_type": "execute_result"
    }
   ],
   "source": [
    "np.isnan(X_train).any()"
   ]
  },
  {
   "cell_type": "code",
   "execution_count": 15,
   "metadata": {},
   "outputs": [],
   "source": [
    "def fill_nan_with_mean(a):\n",
    "    a[a == -1000] = None\n",
    "    return np.where(np.isnan(a), np.ma.array(a, mask=np.isnan(a)).mean(axis=0), a)"
   ]
  },
  {
   "cell_type": "code",
   "execution_count": 12,
   "metadata": {},
   "outputs": [],
   "source": []
  },
  {
   "cell_type": "code",
   "execution_count": 14,
   "metadata": {},
   "outputs": [
    {
     "data": {
      "text/plain": [
       "array([[[0.16253184, 0.        , 0.26507077, 0.        ],\n",
       "        [0.        , 0.59005374, 0.        , 0.10735513],\n",
       "        [0.        , 0.61319411, 0.46133272, 1.03194413],\n",
       "        ...,\n",
       "        [1.        , 0.81249583, 0.74398664, 7.78348463],\n",
       "        [1.        , 0.80300581, 0.78064201, 8.35843784],\n",
       "        [1.        , 0.82061124, 0.79688799, 8.86198941]],\n",
       "\n",
       "       [[0.30806365, 0.36336766, 0.26507077, 0.        ],\n",
       "        [0.93187958, 0.47935769, 0.32315527, 0.58865661],\n",
       "        [0.41631457, 0.61319411, 0.6996029 , 2.16676378],\n",
       "        ...,\n",
       "        [0.77791268, 1.        , 0.6111334 , 6.33726501],\n",
       "        [0.79606168, 1.        , 0.78064201, 8.35843784],\n",
       "        [0.78403856, 0.82061124, 0.89394498, 8.41668701]],\n",
       "\n",
       "       [[0.30806365, 0.36336766, 0.08252822, 0.        ],\n",
       "        [1.        , 0.47935769, 0.32315527, 0.58865661],\n",
       "        [0.41631457, 0.8819344 , 0.46133272, 1.03194413],\n",
       "        ...,\n",
       "        [0.77791268, 0.81249583, 0.74398664, 7.78348463],\n",
       "        [0.79606168, 1.        , 0.78064201, 8.35843784],\n",
       "        [0.78403856, 0.82061124, 0.79688799, 8.86198941]],\n",
       "\n",
       "       ...,\n",
       "\n",
       "       [[0.30806365, 0.        , 0.26507077, 0.        ],\n",
       "        [0.37754214, 0.        , 0.21481165, 0.39129779],\n",
       "        [0.41631457, 1.        , 0.07025079, 2.18553066],\n",
       "        ...,\n",
       "        [0.77791268, 0.6912809 , 0.74398664, 7.78348463],\n",
       "        [1.        , 1.        , 0.78064201, 8.35843784],\n",
       "        [0.78403856, 1.        , 0.79688799, 8.86198941]],\n",
       "\n",
       "       [[0.30806365, 0.36336766, 0.        , 0.        ],\n",
       "        [0.        , 0.47935769, 0.66314697, 0.58239138],\n",
       "        [0.41631457, 0.61319411, 0.46133272, 1.03194413],\n",
       "        ...,\n",
       "        [0.77791268, 1.        , 0.74398664, 7.78348463],\n",
       "        [0.79606168, 0.80300581, 0.78064201, 8.35843784],\n",
       "        [0.78403856, 0.82061124, 0.79688799, 8.86198941]],\n",
       "\n",
       "       [[0.30806365, 0.36336766, 0.        , 0.        ],\n",
       "        [0.56105137, 0.47935769, 0.        , 1.0409466 ],\n",
       "        [0.41631457, 0.61319411, 0.15250517, 1.1206342 ],\n",
       "        ...,\n",
       "        [1.        , 0.81249583, 0.74398664, 7.78348463],\n",
       "        [0.90985638, 0.69226301, 0.78064201, 8.35843784],\n",
       "        [1.        , 0.82061124, 0.24972238, 8.74166107]]])"
      ]
     },
     "execution_count": 14,
     "metadata": {},
     "output_type": "execute_result"
    }
   ],
   "source": [
    "fill_nan_with_mean(X_train)"
   ]
  },
  {
   "cell_type": "code",
   "execution_count": 7,
   "metadata": {},
   "outputs": [],
   "source": [
    "# kmeans_mean = np.mean([0.2072, 0.0176, 0.0629, -0.0016, 0.0313])\n",
    "# kmeans_std = np.std([0.2072, 0.0176, 0.0629, -0.0016, 0.0313])\n",
    "\n",
    "# print('Kernel KMeans %.2f $\\\\pm$ %.2f' % (kmeans_mean, kmeans_std))"
   ]
  },
  {
   "cell_type": "code",
   "execution_count": 8,
   "metadata": {},
   "outputs": [
    {
     "data": {
      "text/plain": [
       "array([  3.        ,   8.10526316,  13.21052632,  18.31578947,\n",
       "        23.42105263,  28.52631579,  33.63157895,  38.73684211,\n",
       "        43.84210526,  48.94736842,  54.05263158,  59.15789474,\n",
       "        64.26315789,  69.36842105,  74.47368421,  79.57894737,\n",
       "        84.68421053,  89.78947368,  94.89473684, 100.        ])"
      ]
     },
     "execution_count": 8,
     "metadata": {},
     "output_type": "execute_result"
    }
   ],
   "source": [
    "np.linspace(3,100,20)"
   ]
  },
  {
   "cell_type": "code",
   "execution_count": 9,
   "metadata": {},
   "outputs": [
    {
     "data": {
      "text/plain": [
       "array([0., 0., 0., 0., 0., 0., 0., 0., 0., 0., 0., 0., 0., 0., 0., 0., 0.,\n",
       "       0., 0., 0.])"
      ]
     },
     "execution_count": 9,
     "metadata": {},
     "output_type": "execute_result"
    }
   ],
   "source": [
    "np.zeros(20)"
   ]
  },
  {
   "cell_type": "code",
   "execution_count": 4,
   "metadata": {},
   "outputs": [
    {
     "ename": "NameError",
     "evalue": "name 'np' is not defined",
     "output_type": "error",
     "traceback": [
      "\u001b[0;31m---------------------------------------------------------------------------\u001b[0m",
      "\u001b[0;31mNameError\u001b[0m                                 Traceback (most recent call last)",
      "\u001b[0;32m<ipython-input-4-b3d4a372806c>\u001b[0m in \u001b[0;36m<module>\u001b[0;34m\u001b[0m\n\u001b[1;32m      9\u001b[0m \u001b[0;34m\u001b[0m\u001b[0m\n\u001b[1;32m     10\u001b[0m \u001b[0mN_visit_options\u001b[0m \u001b[0;34m=\u001b[0m \u001b[0;34m[\u001b[0m\u001b[0;36m2\u001b[0m\u001b[0;34m,\u001b[0m\u001b[0;36m4\u001b[0m\u001b[0;34m,\u001b[0m\u001b[0;36m6\u001b[0m\u001b[0;34m,\u001b[0m\u001b[0;36m8\u001b[0m\u001b[0;34m,\u001b[0m\u001b[0;36m10\u001b[0m\u001b[0;34m,\u001b[0m\u001b[0;36m12\u001b[0m\u001b[0;34m,\u001b[0m\u001b[0;36m14\u001b[0m\u001b[0;34m,\u001b[0m\u001b[0;36m16\u001b[0m\u001b[0;34m,\u001b[0m\u001b[0;36m18\u001b[0m\u001b[0;34m,\u001b[0m\u001b[0;36m20\u001b[0m\u001b[0;34m]\u001b[0m\u001b[0;34m\u001b[0m\u001b[0;34m\u001b[0m\u001b[0m\n\u001b[0;32m---> 11\u001b[0;31m \u001b[0mresults_data\u001b[0m \u001b[0;34m=\u001b[0m \u001b[0mnp\u001b[0m\u001b[0;34m.\u001b[0m\u001b[0mzeros\u001b[0m\u001b[0;34m(\u001b[0m\u001b[0;34m(\u001b[0m\u001b[0mlen\u001b[0m\u001b[0;34m(\u001b[0m\u001b[0mN_visit_options\u001b[0m\u001b[0;34m)\u001b[0m\u001b[0;34m,\u001b[0m \u001b[0;36m4\u001b[0m\u001b[0;34m)\u001b[0m\u001b[0;34m)\u001b[0m\u001b[0;34m\u001b[0m\u001b[0;34m\u001b[0m\u001b[0m\n\u001b[0m\u001b[1;32m     12\u001b[0m \u001b[0;34m\u001b[0m\u001b[0m\n\u001b[1;32m     13\u001b[0m \u001b[0;32mfor\u001b[0m \u001b[0mvisits_ix\u001b[0m\u001b[0;34m,\u001b[0m \u001b[0mN_visits_float\u001b[0m \u001b[0;32min\u001b[0m \u001b[0menumerate\u001b[0m\u001b[0;34m(\u001b[0m\u001b[0mN_visit_options\u001b[0m\u001b[0;34m)\u001b[0m\u001b[0;34m:\u001b[0m\u001b[0;34m\u001b[0m\u001b[0;34m\u001b[0m\u001b[0m\n",
      "\u001b[0;31mNameError\u001b[0m: name 'np' is not defined"
     ]
    }
   ],
   "source": [
    "# time series kmeans\n",
    "import time\n",
    "\n",
    "start = time.time()\n",
    "\n",
    "# for trial_num in range(5):\n",
    "trial_num = 0\n",
    "epochs          = 1000\n",
    "\n",
    "N_visit_options = [2,4,6,8,10,12,14,16,18,20]\n",
    "results_data = np.zeros((len(N_visit_options), 4))\n",
    "\n",
    "for visits_ix, N_visits_float in enumerate(N_visit_options):\n",
    "    end = time.time()\n",
    "    print(visits_ix,end - start)\n",
    "    \n",
    "    N_visits = int(N_visits_float)\n",
    "\n",
    "    \n",
    "    data = load_sigmoid_data(subtypes=2, F=3, N=1000, M=N_visits, noise=0.25)\n",
    "    # data    = load_data_format(data_format_num, trial_num=trial_num, cache=True)\n",
    "    shuffle = False\n",
    "\n",
    "    train_data_loader, train_data_dict, _, _, test_data_loader, test_data_dict, valid_pid, test_pid, unique_pid = parse_data(data.values, \n",
    "                                                                                                                           max_visits=N_visits, \n",
    "                                                                                                                             test_per=0.2, valid_per=0.2, \n",
    "                                                                                                                           shuffle=shuffle)\n",
    "    \n",
    "    model = Sublign(ds, dh, drnn, C, num_output_dims, sigmoid=use_sigmoid, reg_type=reg_type, auto_delta=False, \n",
    "                max_delta=5, learn_time=True)\n",
    "\n",
    "    model.fit(train_data_loader, test_data_loader, epochs, lr, verbose=False, \n",
    "              fname='data%d.pt' % (data_format_num), eval_freq=25, epoch_debug=False, \n",
    "              plot_debug=False)\n",
    "\n",
    "\n",
    "    subtypes = model.get_subtypes(train_data_dict['obs_t_collect'], train_data_dict['Y_collect'], K=2)\n",
    "#     train_results = model.score(train_data_dict, train_data_dict)\n",
    "    test_results  = model.score(train_data_dict, test_data_dict)\n",
    "    results_data[visits_ix,3] = test_results['ari']\n",
    "    \n",
    "    for metric_num, metric in enumerate(['softdtw', 'dtw', 'euclidean']):\n",
    "\n",
    "        km = TimeSeriesKMeans(n_clusters=2, metric=metric)\n",
    "\n",
    "        X_train = np.concatenate([train_data_dict['Y_collect'],train_data_dict['obs_t_collect']],axis=2)\n",
    "        y_train = train_data_dict['s_collect']\n",
    "\n",
    "        X_test = np.concatenate([test_data_dict['Y_collect'],test_data_dict['obs_t_collect']],axis=2)\n",
    "        y_test = test_data_dict['s_collect']\n",
    "\n",
    "        km.fit(X_train)\n",
    "        labels_test = km.predict(X_test)\n",
    "\n",
    "        test_ari = adjusted_rand_score(np.squeeze(y_test), labels_test)\n",
    "#         print('Test (%s) ARI: %.4f' % (metric, test_ari))\n",
    "        results_data[visits_ix,metric_num] = test_ari"
   ]
  },
  {
   "cell_type": "code",
   "execution_count": 32,
   "metadata": {},
   "outputs": [
    {
     "data": {
      "text/plain": [
       "[2, 4, 6, 8, 10, 12, 14, 16, 18, 20]"
      ]
     },
     "execution_count": 32,
     "metadata": {},
     "output_type": "execute_result"
    }
   ],
   "source": [
    "N_visit_options"
   ]
  },
  {
   "cell_type": "code",
   "execution_count": 33,
   "metadata": {},
   "outputs": [
    {
     "data": {
      "image/png": "[encoded data removed]",
      "text/plain": [
       "<Figure size 432x288 with 1 Axes>"
      ]
     },
     "metadata": {
      "needs_background": "light"
     },
     "output_type": "display_data"
    }
   ],
   "source": [
    "clean_plot()\n",
    "# xs_short = np.linspace(3,100,15)\n",
    "\n",
    "xs = N_visit_options\n",
    "\n",
    "# for i in range(15):\n",
    "#     xs[i] = xs_short[i]\n",
    "\n",
    "for metric_num, metric in enumerate(['softdtw', 'dtw', 'euclidean', 'sublign']):\n",
    "    ys = results_data[:,metric_num]\n",
    "    plt.plot(xs[:7], ys[:7], label=metric)\n",
    "\n",
    "plt.xlabel('Visits Per Person')\n",
    "plt.ylabel('Held-out Cluster Performance (ARI)')\n",
    "plt.legend()\n",
    "plt.show()"
   ]
  },
  {
   "cell_type": "code",
   "execution_count": 13,
   "metadata": {},
   "outputs": [
    {
     "name": "stdout",
     "output_type": "stream",
     "text": [
      "0.0051 $\\pm$ 0.01\n"
     ]
    }
   ],
   "source": [
    "kmeans_mean = np.mean([0.0205, 0.0072, 0.0050, -0.0046, -0.0025])\n",
    "kmeans_std = np.std([0.0205, 0.0072, 0.0050, -0.0046, -0.0025])\n",
    "\n",
    "print('%.4f $\\\\pm$ %.2f' % (kmeans_mean, kmeans_std))"
   ]
  },
  {
   "cell_type": "code",
   "execution_count": 37,
   "metadata": {},
   "outputs": [
    {
     "data": {
      "text/plain": [
       "(200,)"
      ]
     },
     "execution_count": 37,
     "metadata": {},
     "output_type": "execute_result"
    }
   ],
   "source": [
    "labels_test.shape"
   ]
  },
  {
   "cell_type": "markdown",
   "metadata": {},
   "source": [
    "## Compare for higher percentage of missingness"
   ]
  },
  {
   "cell_type": "code",
   "execution_count": null,
   "metadata": {},
   "outputs": [],
   "source": [
    "data = load_data_format(13, trial_num=1)\n",
    "    \n",
    "train_data_loader, train_data_dict, _, _, test_data_loader, test_data_dict, valid_pid, test_pid, unique_pid = parse_data(data.values, \n",
    "                                                                                                                     max_visits=max_visits, \n",
    "                                                                                                                     test_per=0.2, valid_per=0.2, \n",
    "                                                                                                                     shuffle=False)\n",
    "\n",
    "# X = train_data_dict['obs_t_collect']\n",
    "# Y = train_data_dict['Y_collect']\n",
    "# M = train_data_dict['mask_collect']\n",
    "\n",
    "# X[X == -1000] = np.nan\n",
    "# Y[Y == -1000] = np.nan\n",
    "\n",
    "# sys.path.append('../model')\n",
    "# from utils import interpolate\n",
    "\n",
    "# Y_linear = interpolate(Y, how='linear')\n",
    "# Y_mice = interpolate(Y, how='mice')\n",
    "\n",
    "# # Y_mrnn = interpolate(Y, M, X, how='mrnn')\n"
   ]
  },
  {
   "cell_type": "code",
   "execution_count": 13,
   "metadata": {},
   "outputs": [
    {
     "name": "stdout",
     "output_type": "stream",
     "text": [
      "0 0.0007536411285400391\n",
      "Max visits: 17\n",
      "1 83.24918842315674\n",
      "Max visits: 17\n",
      "2 155.33066272735596\n",
      "Max visits: 17\n",
      "3 215.73594546318054\n",
      "Max visits: 17\n"
     ]
    }
   ],
   "source": [
    "# time series kmeans\n",
    "import time\n",
    "\n",
    "start = time.time()\n",
    "\n",
    "# for trial_num in range(5):\n",
    "trial_num = 0\n",
    "epochs          = 1000\n",
    "\n",
    "# N_visit_options = [2,4,6,8,10,12,14,16,18,20]\n",
    "N_visit_options = [1,1,1,1]\n",
    "results_data = np.zeros((len(N_visit_options), 4))\n",
    "\n",
    "for visits_ix, N_visits_float in enumerate(N_visit_options):\n",
    "    end = time.time()\n",
    "    print(visits_ix,end - start)\n",
    "    \n",
    "    N_visits = int(N_visits_float)\n",
    "\n",
    "    \n",
    "#     data = load_sigmoid_data(subtypes=2, F=3, N=1000, M=N_visits, noise=0.25)\n",
    "    data    = load_data_format(data_format_num=11, trial_num=trial_num, cache=True)\n",
    "    shuffle = False\n",
    "\n",
    "    train_data_loader, train_data_dict, _, _, test_data_loader, test_data_dict, valid_pid, test_pid, unique_pid = parse_data(data.values, \n",
    "                                                                                                                           max_visits=N_visits, \n",
    "                                                                                                                             test_per=0.2, valid_per=0.2, \n",
    "                                                                                                                           shuffle=shuffle)\n",
    "    \n",
    "#     model = Sublign(ds, dh, drnn, C, num_output_dims, sigmoid=use_sigmoid, reg_type=reg_type, auto_delta=False, \n",
    "#                 max_delta=10, learn_time=True)\n",
    "\n",
    "#     model.fit(train_data_loader, test_data_loader, epochs, lr, verbose=False, \n",
    "#               fname='data%d.pt' % (data_format_num), eval_freq=25, epoch_debug=False, \n",
    "#               plot_debug=False)\n",
    "\n",
    "\n",
    "#     subtypes = model.get_subtypes(train_data_dict['obs_t_collect'], train_data_dict['Y_collect'], K=2)\n",
    "# #     train_results = model.score(train_data_dict, train_data_dict)\n",
    "#     test_results  = model.score(train_data_dict, test_data_dict)\n",
    "#     results_data[visits_ix,3] = test_results['ari']\n",
    "    \n",
    "    for metric_num, metric in enumerate(['softdtw', 'dtw', 'euclidean']):\n",
    "\n",
    "        km = TimeSeriesKMeans(n_clusters=2, metric=metric)\n",
    "\n",
    "        \n",
    "        X_train = np.concatenate([train_data_dict['Y_collect'],train_data_dict['obs_t_collect']],axis=2)\n",
    "        y_train = train_data_dict['s_collect']\n",
    "\n",
    "        X_test = np.concatenate([test_data_dict['Y_collect'],test_data_dict['obs_t_collect']],axis=2)\n",
    "        y_test = test_data_dict['s_collect']\n",
    "\n",
    "        \n",
    "#         X_train = interpolate(X_train, how='mice')\n",
    "#         X_test = interpolate(X_test, how='mice')\n",
    "\n",
    "        km.fit(X_train)\n",
    "        labels_test = km.predict(X_test)\n",
    "\n",
    "        test_ari = adjusted_rand_score(np.squeeze(y_test), labels_test)\n",
    "#         print('Test (%s) ARI: %.4f' % (metric, test_ari))\n",
    "        results_data[visits_ix,metric_num] = test_ari"
   ]
  },
  {
   "cell_type": "code",
   "execution_count": 15,
   "metadata": {},
   "outputs": [
    {
     "data": {
      "text/plain": [
       "array([[-1.73293418e-03, -3.43939365e-03, -4.10614019e-03,\n",
       "         0.00000000e+00],\n",
       "       [-9.04614538e-05,  4.64162504e-05, -3.42361258e-03,\n",
       "         0.00000000e+00],\n",
       "       [-4.60237461e-03, -4.61601241e-03, -4.12074501e-03,\n",
       "         0.00000000e+00],\n",
       "       [-2.45231594e-03, -4.78970052e-03, -4.40718363e-03,\n",
       "         0.00000000e+00]])"
      ]
     },
     "execution_count": 15,
     "metadata": {},
     "output_type": "execute_result"
    }
   ],
   "source": [
    "results_data"
   ]
  },
  {
   "cell_type": "code",
   "execution_count": 8,
   "metadata": {},
   "outputs": [
    {
     "data": {
      "text/plain": [
       "(600, 1)"
      ]
     },
     "execution_count": 8,
     "metadata": {},
     "output_type": "execute_result"
    }
   ],
   "source": [
    "y_train.shape"
   ]
  },
  {
   "cell_type": "markdown",
   "metadata": {},
   "source": [
    "## PPMI DTW results?"
   ]
  },
  {
   "cell_type": "code",
   "execution_count": 16,
   "metadata": {},
   "outputs": [],
   "source": [
    "sys.path.append('../data')\n",
    "from load import parkinsons"
   ]
  },
  {
   "cell_type": "code",
   "execution_count": 17,
   "metadata": {},
   "outputs": [
    {
     "name": "stdout",
     "output_type": "stream",
     "text": [
      "0 0.0006690025329589844\n",
      "loading PPMI data\n",
      "Max visits: 17\n",
      "1 14.215641498565674\n",
      "loading PPMI data\n",
      "Max visits: 17\n",
      "2 31.361016511917114\n",
      "loading PPMI data\n",
      "Max visits: 17\n",
      "3 54.46832513809204\n",
      "loading PPMI data\n",
      "Max visits: 17\n",
      "[[ 0.61361457  0.93526411 -0.0063914   0.        ]\n",
      " [ 0.72440539  0.03855642 -0.0063914   0.        ]\n",
      " [ 0.93526411  0.93526411 -0.00500452  0.        ]\n",
      " [ 0.06151802  0.93526411 -0.00730538  0.        ]]\n"
     ]
    }
   ],
   "source": [
    "# time series kmeans\n",
    "import time\n",
    "\n",
    "start = time.time()\n",
    "\n",
    "# for trial_num in range(5):\n",
    "trial_num = 0\n",
    "epochs          = 1000\n",
    "\n",
    "# N_visit_options = [2,4,6,8,10,12,14,16,18,20]\n",
    "N_visit_options = [1,1,1,1]\n",
    "results_data = np.zeros((len(N_visit_options), 4))\n",
    "\n",
    "data = parkinsons()\n",
    "shuffle = False\n",
    "\n",
    "train_data_loader, train_data_dict, _, _, test_data_loader, test_data_dict, valid_pid, test_pid, unique_pid = parse_data(data.values, \n",
    "                                                                                                                       max_visits=N_visits, \n",
    "                                                                                                                         test_per=0.2, valid_per=0.2, \n",
    "                                                                                                                       shuffle=shuffle)\n",
    "\n",
    "\n",
    "for visits_ix, N_visits_float in enumerate(N_visit_options):\n",
    "    end = time.time()\n",
    "    print(visits_ix,end - start)\n",
    "    \n",
    "    N_visits = int(N_visits_float)\n",
    "\n",
    "    \n",
    "#     data = load_sigmoid_data(subtypes=2, F=3, N=1000, M=N_visits, noise=0.25)\n",
    "#     data    = load_data_format(data_format_num=11, trial_num=trial_num, cache=True)\n",
    "    \n",
    "#     model = Sublign(ds, dh, drnn, C, num_output_dims, sigmoid=use_sigmoid, reg_type=reg_type, auto_delta=False, \n",
    "#                 max_delta=10, learn_time=True)\n",
    "\n",
    "#     model.fit(train_data_loader, test_data_loader, epochs, lr, verbose=False, \n",
    "#               fname='data%d.pt' % (data_format_num), eval_freq=25, epoch_debug=False, \n",
    "#               plot_debug=False)\n",
    "\n",
    "\n",
    "#     subtypes = model.get_subtypes(train_data_dict['obs_t_collect'], train_data_dict['Y_collect'], K=2)\n",
    "# #     train_results = model.score(train_data_dict, train_data_dict)\n",
    "#     test_results  = model.score(train_data_dict, test_data_dict)\n",
    "#     results_data[visits_ix,3] = test_results['ari']\n",
    "    \n",
    "    for metric_num, metric in enumerate(['softdtw', 'dtw', 'euclidean']):\n",
    "\n",
    "        km = TimeSeriesKMeans(n_clusters=2, metric=metric)\n",
    "\n",
    "        \n",
    "        X_train = np.concatenate([train_data_dict['Y_collect'],train_data_dict['obs_t_collect']],axis=2)\n",
    "        y_train = train_data_dict['s_collect']\n",
    "\n",
    "        X_test = np.concatenate([test_data_dict['Y_collect'],test_data_dict['obs_t_collect']],axis=2)\n",
    "        y_test = test_data_dict['s_collect']\n",
    "\n",
    "        \n",
    "#         X_train = interpolate(X_train, how='mice')\n",
    "#         X_test = interpolate(X_test, how='mice')\n",
    "\n",
    "        km.fit(X_train)\n",
    "        labels_test = km.predict(X_test)\n",
    "\n",
    "        test_ari = adjusted_rand_score(np.squeeze(y_test), labels_test)\n",
    "#         print('Test (%s) ARI: %.4f' % (metric, test_ari))\n",
    "        results_data[visits_ix,metric_num] = test_ari\n",
    "print(results_data)"
   ]
  },
  {
   "cell_type": "code",
   "execution_count": null,
   "metadata": {},
   "outputs": [],
   "source": []
  },
  {
   "cell_type": "code",
   "execution_count": null,
   "metadata": {},
   "outputs": [],
   "source": []
  },
  {
   "cell_type": "markdown",
   "metadata": {},
   "source": [
    "## Run DTW that works"
   ]
  },
  {
   "cell_type": "code",
   "execution_count": null,
   "metadata": {},
   "outputs": [],
   "source": []
  },
  {
   "cell_type": "code",
   "execution_count": 14,
   "metadata": {},
   "outputs": [
    {
     "data": {
      "image/png": "[encoded data removed]",
      "text/plain": [
       "<Figure size 432x288 with 4 Axes>"
      ]
     },
     "metadata": {},
     "output_type": "display_data"
    }
   ],
   "source": [
    "import numpy\n",
    "import matplotlib.pyplot as plt\n",
    "import matplotlib.colors\n",
    "\n",
    "from tslearn.preprocessing import TimeSeriesScalerMinMax\n",
    "from tslearn.barycenters import softdtw_barycenter\n",
    "from tslearn.datasets import CachedDatasets\n",
    "\n",
    "\n",
    "def row_col(position, n_cols=5):\n",
    "    idx_row = (position - 1) // n_cols\n",
    "    idx_col = position - n_cols * idx_row - 1\n",
    "    return idx_row, idx_col\n",
    "\n",
    "\n",
    "def get_color(weights):\n",
    "    baselines = numpy.zeros((4, 3))\n",
    "    weights = numpy.array(weights).reshape(1, 4)\n",
    "    for i, c in enumerate([\"r\", \"g\", \"b\", \"y\"]):\n",
    "        baselines[i] = matplotlib.colors.ColorConverter().to_rgb(c)\n",
    "    return numpy.dot(weights, baselines).ravel()\n",
    "\n",
    "\n",
    "numpy.random.seed(0)\n",
    "X_train, y_train, X_test, y_test = CachedDatasets().load_dataset(\"Trace\")\n",
    "X_out = numpy.empty((4, X_train.shape[1], X_train.shape[2]))\n",
    "\n",
    "plt.figure()\n",
    "for i in range(4):\n",
    "    X_out[i] = X_train[y_train == (i + 1)][0]\n",
    "X_out = TimeSeriesScalerMinMax().fit_transform(X_out)\n",
    "\n",
    "for i, pos in enumerate([1, 5, 21, 25]):\n",
    "    plt.subplot(5, 5, pos)\n",
    "    w = [0.] * 4\n",
    "    w[i] = 1.\n",
    "    plt.plot(X_out[i].ravel(),\n",
    "             color=matplotlib.colors.rgb2hex(get_color(w)),\n",
    "             linewidth=2)\n",
    "    plt.text(X_out[i].shape[0], 0., \"$X_%d$\" % i,\n",
    "             horizontalalignment=\"right\",\n",
    "             verticalalignment=\"baseline\",\n",
    "             fontsize=24)\n",
    "    plt.xticks([])\n",
    "    plt.yticks([])\n",
    "\n",
    "# for pos in range(2, 25):\n",
    "#     if pos in [1, 5, 21, 25]:\n",
    "#         continue\n",
    "#     plt.subplot(5, 5, pos)\n",
    "#     idxr, idxc = row_col(pos, 5)\n",
    "#     w = numpy.array([0.] * 4)\n",
    "#     w[0] = (4 - idxr) * (4 - idxc) / 16\n",
    "#     w[1] = (4 - idxr) * idxc / 16\n",
    "#     w[2] = idxr * (4 - idxc) / 16\n",
    "#     w[3] = idxr * idxc / 16\n",
    "#     plt.plot(softdtw_barycenter(X=X_out, weights=w).ravel(),\n",
    "#              color=matplotlib.colors.rgb2hex(get_color(w)),\n",
    "#              linewidth=2)\n",
    "#     plt.xticks([])\n",
    "#     plt.yticks([])\n",
    "\n",
    "\n",
    "plt.tight_layout()\n",
    "plt.show()\n"
   ]
  },
  {
   "cell_type": "code",
   "execution_count": 13,
   "metadata": {},
   "outputs": [
    {
     "data": {
      "text/plain": [
       "(4, 275, 1)"
      ]
     },
     "execution_count": 13,
     "metadata": {},
     "output_type": "execute_result"
    }
   ],
   "source": [
    "X_out.shape"
   ]
  },
  {
   "cell_type": "code",
   "execution_count": null,
   "metadata": {},
   "outputs": [],
   "source": []
  },
  {
   "cell_type": "code",
   "execution_count": 6,
   "metadata": {},
   "outputs": [
    {
     "data": {
      "text/plain": [
       "(100,)"
      ]
     },
     "execution_count": 6,
     "metadata": {},
     "output_type": "execute_result"
    }
   ],
   "source": [
    "y_train.shape"
   ]
  },
  {
   "cell_type": "code",
   "execution_count": 7,
   "metadata": {},
   "outputs": [],
   "source": [
    "REDACTED = softdtw_barycenter(X=X_out, weights=w).ravel()"
   ]
  },
  {
   "cell_type": "code",
   "execution_count": 9,
   "metadata": {},
   "outputs": [
    {
     "data": {
      "text/plain": [
       "(275,)"
      ]
     },
     "execution_count": 9,
     "metadata": {},
     "output_type": "execute_result"
    }
   ],
   "source": [
    "REDACTED.shape"
   ]
  }
 ],
 "metadata": {
  "kernelspec": {
   "display_name": "Python 3",
   "language": "python",
   "name": "python3"
  },
  "language_info": {
   "codemirror_mode": {
    "name": "ipython",
    "version": 3
   },
   "file_extension": ".py",
   "mimetype": "text/x-python",
   "name": "python",
   "nbconvert_exporter": "python",
   "pygments_lexer": "ipython3",
   "version": "3.7.3"
  }
 },
 "nbformat": 4,
 "nbformat_minor": 2
}

{
 "cells": [
  {
   "cell_type": "markdown",
   "metadata": {},
   "source": [
    "1. Split into train and test data\n",
    "2. Train model on train data normally\n",
    "3. Take test data and duplicate into test prime \n",
    "4. Drop first visit from test prime data\n",
    "5. Get predicted delta from test prime data. Compare to delta from test data. We know the difference (epsilon) because we dropped actual visits. What percent of time is test delta < test prime delta? \n",
    "6. Restrict it only to patients with lot of visits. Is this better?"
   ]
  },
  {
   "cell_type": "code",
   "execution_count": 1,
   "metadata": {},
   "outputs": [],
   "source": [
    "%matplotlib inline\n",
    "import matplotlib.pyplot as plt\n",
    "\n",
    "import numpy as np\n",
    "import pickle\n",
    "\n",
    "def clean_plot():\n",
    "    ax = plt.subplot(111)    \n",
    "    ax.spines[\"top\"].set_visible(False)    \n",
    "    ax.spines[\"bottom\"].set_visible(False)    \n",
    "    ax.spines[\"right\"].set_visible(False)    \n",
    "    ax.spines[\"left\"].set_visible(False)    \n",
    "    \n",
    "    ax.get_xaxis().tick_bottom()    \n",
    "    ax.get_yaxis().tick_left()   \n",
    "    plt.grid()\n",
    "\n",
    "import matplotlib.pylab as pylab\n",
    "params = {'legend.fontsize': 'x-large',\n",
    "#           'figure.figsize': (10,6),\n",
    "         'axes.labelsize': 'x-large',\n",
    "         'axes.titlesize':'x-large',\n",
    "         'xtick.labelsize':'x-large',\n",
    "         'ytick.labelsize':'x-large'}\n",
    "pylab.rcParams.update(params)"
   ]
  },
  {
   "cell_type": "code",
   "execution_count": 2,
   "metadata": {},
   "outputs": [],
   "source": [
    "import os, sys\n",
    "project_root = os.path.abspath(os.path.dirname(os.getcwd()))\n",
    "sys.path.append(project_root)"
   ]
  },
  {
   "cell_type": "code",
   "execution_count": 3,
   "metadata": {},
   "outputs": [],
   "source": [
    "import sys\n",
    "import torch\n",
    "\n",
    "sys.path.append('.')\n",
    "from data.load import chf\n",
    "from data.data_utils import parse_data\n",
    "from data.synthetic_data import load_piecewise_synthetic_data\n",
    "\n",
    "\n",
    "sys.path.append('./model')\n",
    "from models import Sublign\n",
    "from run_experiments import get_hyperparameters\n"
   ]
  },
  {
   "cell_type": "code",
   "execution_count": 4,
   "metadata": {},
   "outputs": [],
   "source": [
    "def make_test_prime(test_data_dict_raw, drop_first_T=1.):\n",
    "    # drop first year\n",
    "    test_data_dict = copy.deepcopy(test_data_dict_raw)\n",
    "    eps_lst        = list()\n",
    "    \n",
    "    X = test_data_dict['obs_t_collect']\n",
    "    Y = test_data_dict['Y_collect']\n",
    "    M = test_data_dict['mask_collect']\n",
    "    \n",
    "    N_patients = X.shape[0]\n",
    "    N_visits   = X.shape[1]\n",
    "    \n",
    "    for i in range(N_patients):\n",
    "        eps_i = X[i,1,0] - X[i,0,0]\n",
    "        \n",
    "        first_visit = X[i,1,0]\n",
    "        # move all visits down (essentially destroying the first visit)\n",
    "        for j in range(N_visits-gap):\n",
    "            \n",
    "            X[i,j,0] = X[i,j+gap,0] - first_visit\n",
    "            Y[i,j,:] = Y[i,j+gap,:]\n",
    "            M[i,j,:] = M[i,j+gap,:]\n",
    "        \n",
    "        for g in range(1,gap+1):\n",
    "            X[i,N_visits-g,0] = int(-1000)\n",
    "            Y[i,N_visits-g,:] = int(-1000)\n",
    "            M[i,N_visits-g,:] = 0.\n",
    "        \n",
    "        eps_lst.append(eps_i)\n",
    "    return test_data_dict, eps_lst"
   ]
  },
  {
   "cell_type": "code",
   "execution_count": 5,
   "metadata": {},
   "outputs": [
    {
     "name": "stderr",
     "output_type": "stream",
     "text": [
      "c:\\Users\\nss_1\\clustering-interval-censored\\venv\\lib\\site-packages\\IPython\\core\\interactiveshell.py:3258: DtypeWarning: Columns (4,11,12,58,112,193,202,204) have mixed types.Specify dtype option on import or set low_memory=False.\n",
      "  interactivity=interactivity, compiler=compiler, result=result)\n"
     ]
    }
   ],
   "source": [
    "import pandas as pd \n",
    "data= pd.read_csv('C:/Users/nss_1/clustering-interval-censored/model/data/result_4_long_format.csv',sep=';')"
   ]
  },
  {
   "cell_type": "code",
   "execution_count": 6,
   "metadata": {},
   "outputs": [],
   "source": [
    "selected_columns = [\"PATNO\",\"AGE_AT_VISIT\", \"FINAL_SEX_ENCODED\", \"MCATOT\",\"NP1RTOT\" ,\"NP2PTOT\", \"NP3TOT\", \"SDMTOTAL\"]\n",
    "filtered_df = data[data[\"COHORT\"].isin([\"PD\", \"Prodromal\"])][selected_columns]"
   ]
  },
  {
   "cell_type": "code",
   "execution_count": 7,
   "metadata": {},
   "outputs": [],
   "source": [
    "filtered_df['subtype'] = data['COHORT'].apply(lambda x: 1 if x in ['PD', 'Prodromal'] else 0)"
   ]
  },
  {
   "cell_type": "code",
   "execution_count": 7,
   "metadata": {},
   "outputs": [
    {
     "name": "stdout",
     "output_type": "stream",
     "text": [
      "<class 'pandas.core.frame.DataFrame'>\n"
     ]
    }
   ],
   "source": [
    "print(type(filtered_df))\n"
   ]
  },
  {
   "cell_type": "code",
   "execution_count": 45,
   "metadata": {},
   "outputs": [
    {
     "name": "stdout",
     "output_type": "stream",
     "text": [
      "    PATNO  AGE_AT_VISIT  FINAL_SEX_ENCODED  MCATOT  NP1RTOT  NP2PTOT  NP3TOT  \\\n",
      "9    3001          65.4                1.0     NaN      0.0      2.0    18.0   \n",
      "10   3001          65.6                1.0     NaN      0.0      3.0    23.0   \n",
      "11   3001          65.9                1.0     NaN      1.0      3.0    19.0   \n",
      "12   3001          66.2                1.0    30.0      4.0      3.0    20.0   \n",
      "13   3001          66.7                1.0     NaN      1.0      4.0    29.0   \n",
      "\n",
      "    SDMTOTAL  subtype  \n",
      "9        NaN        1  \n",
      "10       NaN        1  \n",
      "11       NaN        1  \n",
      "12      36.0        1  \n",
      "13       NaN        1  \n",
      "PATNO                  int64\n",
      "AGE_AT_VISIT         float64\n",
      "FINAL_SEX_ENCODED    float64\n",
      "MCATOT               float64\n",
      "NP1RTOT              float64\n",
      "NP2PTOT              float64\n",
      "NP3TOT               float64\n",
      "SDMTOTAL             float64\n",
      "subtype                int64\n",
      "dtype: object\n"
     ]
    }
   ],
   "source": [
    "print(filtered_df.head())\n",
    "print(filtered_df.dtypes)"
   ]
  },
  {
   "cell_type": "code",
   "execution_count": 8,
   "metadata": {},
   "outputs": [],
   "source": [
    "\n",
    "filtered_df = filtered_df.sort_values(['PATNO', 'AGE_AT_VISIT']).reset_index(drop=True)\n",
    "\n",
    "\n"
   ]
  },
  {
   "cell_type": "code",
   "execution_count": 9,
   "metadata": {},
   "outputs": [],
   "source": [
    "filtered_df['obs_time'] = pd.Series(filtered_df.groupby('PATNO').cumcount().values + 1, index=filtered_df.index)\n"
   ]
  },
  {
   "cell_type": "code",
   "execution_count": 10,
   "metadata": {},
   "outputs": [
    {
     "data": {
      "text/plain": [
       "<bound method NDFrame.describe of         PATNO  AGE_AT_VISIT  FINAL_SEX_ENCODED  MCATOT  NP1RTOT  NP2PTOT  \\\n",
       "0        3001          65.4                1.0     NaN      0.0      2.0   \n",
       "1        3001          65.6                1.0     NaN      0.0      3.0   \n",
       "2        3001          65.9                1.0     NaN      1.0      3.0   \n",
       "3        3001          66.2                1.0    30.0      4.0      3.0   \n",
       "4        3001          66.7                1.0     NaN      1.0      4.0   \n",
       "...       ...           ...                ...     ...      ...      ...   \n",
       "10252  320651          56.3                NaN     NaN      1.0      5.0   \n",
       "10253  324862          57.4                NaN     NaN      1.0      4.0   \n",
       "10254  325051          65.0                NaN     NaN      1.0      6.0   \n",
       "10255  325566          51.8                NaN     NaN      1.0      2.0   \n",
       "10256  329289          62.6                NaN     NaN      3.0      8.0   \n",
       "\n",
       "       NP3TOT  SDMTOTAL  subtype  obs_time  \n",
       "0        18.0       NaN        1         1  \n",
       "1        23.0       NaN        1         2  \n",
       "2        19.0       NaN        1         3  \n",
       "3        20.0      36.0        1         4  \n",
       "4        29.0       NaN        1         5  \n",
       "...       ...       ...      ...       ...  \n",
       "10252    25.0       NaN        1         1  \n",
       "10253    21.0       NaN        1         1  \n",
       "10254    44.0       NaN        1         1  \n",
       "10255    13.0       NaN        1         1  \n",
       "10256    25.0       NaN        1         1  \n",
       "\n",
       "[10257 rows x 10 columns]>"
      ]
     },
     "execution_count": 10,
     "metadata": {},
     "output_type": "execute_result"
    }
   ],
   "source": [
    "filtered_df.describe"
   ]
  },
  {
   "cell_type": "code",
   "execution_count": 11,
   "metadata": {},
   "outputs": [],
   "source": [
    "cols_to_rescale = [\"MCATOT\", \"NP1RTOT\", \"NP2PTOT\", \"NP3TOT\", \"SDMTOTAL\"]\n",
    "\n",
    "for col in cols_to_rescale:\n",
    "    max_val = filtered_df[col].max()\n",
    "    if pd.notnull(max_val) and max_val != 0:\n",
    "        filtered_df[col] = filtered_df[col] / max_val\n"
   ]
  },
  {
   "cell_type": "code",
   "execution_count": 12,
   "metadata": {},
   "outputs": [],
   "source": [
    "from run_experiments import get_hyperparameters_ppmi\n",
    "b_vae, C, d_s, d_h, d_rnn, reg_type, lr = get_hyperparameters_ppmi()"
   ]
  },
  {
   "cell_type": "code",
   "execution_count": 11,
   "metadata": {},
   "outputs": [
    {
     "data": {
      "text/plain": [
       "<bound method IndexOpsMixin.nunique of 0          3001\n",
       "1          3001\n",
       "2          3001\n",
       "3          3001\n",
       "4          3001\n",
       "          ...  \n",
       "10252    320651\n",
       "10253    324862\n",
       "10254    325051\n",
       "10255    325566\n",
       "10256    329289\n",
       "Name: PATNO, Length: 10257, dtype: int64>"
      ]
     },
     "execution_count": 11,
     "metadata": {},
     "output_type": "execute_result"
    }
   ],
   "source": [
    "filtered_df['PATNO'].nunique"
   ]
  },
  {
   "cell_type": "code",
   "execution_count": 13,
   "metadata": {},
   "outputs": [],
   "source": [
    "filtered_df = filtered_df[[\n",
    "    \"MCATOT\", \"NP1RTOT\", \"NP2PTOT\", \"NP3TOT\", \"SDMTOTAL\",  # features\n",
    "    \"subtype\",                  # -4\n",
    "    \"AGE_AT_VISIT\",            # time\n",
    "    \"PATNO\",                   # patient ID\n",
    "    \"obs_time\"                 # relative time\n",
    "]]"
   ]
  },
  {
   "cell_type": "code",
   "execution_count": 14,
   "metadata": {},
   "outputs": [],
   "source": [
    "data       = filtered_df\n",
    "max_visits = 9\n",
    "shuffle    = True\n",
    "num_output_dims = data.shape[1] - 4"
   ]
  },
  {
   "cell_type": "code",
   "execution_count": 15,
   "metadata": {},
   "outputs": [
    {
     "name": "stdout",
     "output_type": "stream",
     "text": [
      "Max visits: 9\n"
     ]
    }
   ],
   "source": [
    "train_data_loader, train_data_dict, _, _, test_data_loader, test_data_dict, valid_pid, test_pid, unique_pid = parse_data(\n",
    "            data.values, max_visits=max_visits, test_per=0.2, valid_per=0.2, shuffle=shuffle, device='cpu')"
   ]
  },
  {
   "cell_type": "code",
   "execution_count": 25,
   "metadata": {},
   "outputs": [
    {
     "data": {
      "text/html": [
       "<div>\n",
       "<style scoped>\n",
       "    .dataframe tbody tr th:only-of-type {\n",
       "        vertical-align: middle;\n",
       "    }\n",
       "\n",
       "    .dataframe tbody tr th {\n",
       "        vertical-align: top;\n",
       "    }\n",
       "\n",
       "    .dataframe thead th {\n",
       "        text-align: right;\n",
       "    }\n",
       "</style>\n",
       "<table border=\"1\" class=\"dataframe\">\n",
       "  <thead>\n",
       "    <tr style=\"text-align: right;\">\n",
       "      <th></th>\n",
       "      <th>MCATOT</th>\n",
       "      <th>NP1RTOT</th>\n",
       "      <th>NP2PTOT</th>\n",
       "      <th>NP3TOT</th>\n",
       "      <th>SDMTOTAL</th>\n",
       "      <th>subtype</th>\n",
       "      <th>AGE_AT_VISIT</th>\n",
       "      <th>PATNO</th>\n",
       "      <th>obs_time</th>\n",
       "    </tr>\n",
       "  </thead>\n",
       "  <tbody>\n",
       "    <tr>\n",
       "      <th>0</th>\n",
       "      <td>NaN</td>\n",
       "      <td>0.000000</td>\n",
       "      <td>0.044444</td>\n",
       "      <td>0.2250</td>\n",
       "      <td>NaN</td>\n",
       "      <td>1</td>\n",
       "      <td>65.4</td>\n",
       "      <td>3001</td>\n",
       "      <td>1</td>\n",
       "    </tr>\n",
       "    <tr>\n",
       "      <th>1</th>\n",
       "      <td>NaN</td>\n",
       "      <td>0.000000</td>\n",
       "      <td>0.066667</td>\n",
       "      <td>0.2875</td>\n",
       "      <td>NaN</td>\n",
       "      <td>1</td>\n",
       "      <td>65.6</td>\n",
       "      <td>3001</td>\n",
       "      <td>2</td>\n",
       "    </tr>\n",
       "    <tr>\n",
       "      <th>2</th>\n",
       "      <td>NaN</td>\n",
       "      <td>0.055556</td>\n",
       "      <td>0.066667</td>\n",
       "      <td>0.2375</td>\n",
       "      <td>NaN</td>\n",
       "      <td>1</td>\n",
       "      <td>65.9</td>\n",
       "      <td>3001</td>\n",
       "      <td>3</td>\n",
       "    </tr>\n",
       "    <tr>\n",
       "      <th>3</th>\n",
       "      <td>1.000000</td>\n",
       "      <td>0.222222</td>\n",
       "      <td>0.066667</td>\n",
       "      <td>0.2500</td>\n",
       "      <td>0.367347</td>\n",
       "      <td>1</td>\n",
       "      <td>66.2</td>\n",
       "      <td>3001</td>\n",
       "      <td>4</td>\n",
       "    </tr>\n",
       "    <tr>\n",
       "      <th>4</th>\n",
       "      <td>NaN</td>\n",
       "      <td>0.055556</td>\n",
       "      <td>0.088889</td>\n",
       "      <td>0.3625</td>\n",
       "      <td>NaN</td>\n",
       "      <td>1</td>\n",
       "      <td>66.7</td>\n",
       "      <td>3001</td>\n",
       "      <td>5</td>\n",
       "    </tr>\n",
       "    <tr>\n",
       "      <th>5</th>\n",
       "      <td>1.000000</td>\n",
       "      <td>0.000000</td>\n",
       "      <td>0.044444</td>\n",
       "      <td>0.4875</td>\n",
       "      <td>0.428571</td>\n",
       "      <td>1</td>\n",
       "      <td>67.3</td>\n",
       "      <td>3001</td>\n",
       "      <td>6</td>\n",
       "    </tr>\n",
       "    <tr>\n",
       "      <th>6</th>\n",
       "      <td>NaN</td>\n",
       "      <td>0.000000</td>\n",
       "      <td>0.111111</td>\n",
       "      <td>0.3125</td>\n",
       "      <td>NaN</td>\n",
       "      <td>1</td>\n",
       "      <td>67.7</td>\n",
       "      <td>3001</td>\n",
       "      <td>7</td>\n",
       "    </tr>\n",
       "    <tr>\n",
       "      <th>7</th>\n",
       "      <td>0.966667</td>\n",
       "      <td>0.055556</td>\n",
       "      <td>0.133333</td>\n",
       "      <td>0.4250</td>\n",
       "      <td>0.489796</td>\n",
       "      <td>1</td>\n",
       "      <td>68.3</td>\n",
       "      <td>3001</td>\n",
       "      <td>8</td>\n",
       "    </tr>\n",
       "    <tr>\n",
       "      <th>8</th>\n",
       "      <td>NaN</td>\n",
       "      <td>0.055556</td>\n",
       "      <td>0.244444</td>\n",
       "      <td>0.5250</td>\n",
       "      <td>NaN</td>\n",
       "      <td>1</td>\n",
       "      <td>68.8</td>\n",
       "      <td>3001</td>\n",
       "      <td>9</td>\n",
       "    </tr>\n",
       "  </tbody>\n",
       "</table>\n",
       "</div>"
      ],
      "text/plain": [
       "     MCATOT   NP1RTOT   NP2PTOT  NP3TOT  SDMTOTAL  subtype  AGE_AT_VISIT  \\\n",
       "0       NaN  0.000000  0.044444  0.2250       NaN        1          65.4   \n",
       "1       NaN  0.000000  0.066667  0.2875       NaN        1          65.6   \n",
       "2       NaN  0.055556  0.066667  0.2375       NaN        1          65.9   \n",
       "3  1.000000  0.222222  0.066667  0.2500  0.367347        1          66.2   \n",
       "4       NaN  0.055556  0.088889  0.3625       NaN        1          66.7   \n",
       "5  1.000000  0.000000  0.044444  0.4875  0.428571        1          67.3   \n",
       "6       NaN  0.000000  0.111111  0.3125       NaN        1          67.7   \n",
       "7  0.966667  0.055556  0.133333  0.4250  0.489796        1          68.3   \n",
       "8       NaN  0.055556  0.244444  0.5250       NaN        1          68.8   \n",
       "\n",
       "   PATNO  obs_time  \n",
       "0   3001         1  \n",
       "1   3001         2  \n",
       "2   3001         3  \n",
       "3   3001         4  \n",
       "4   3001         5  \n",
       "5   3001         6  \n",
       "6   3001         7  \n",
       "7   3001         8  \n",
       "8   3001         9  "
      ]
     },
     "execution_count": 25,
     "metadata": {},
     "output_type": "execute_result"
    }
   ],
   "source": [
    "filtered_df.head(9)"
   ]
  },
  {
   "cell_type": "code",
   "execution_count": 14,
   "metadata": {},
   "outputs": [],
   "source": [
    "Y, S, X, M, T = [i for i in train_data_loader][0]"
   ]
  },
  {
   "cell_type": "code",
   "execution_count": 26,
   "metadata": {},
   "outputs": [
    {
     "data": {
      "text/plain": [
       "tensor([[-1.0000e+03,  0.0000e+00,  8.8889e-02,  3.0000e-01, -1.0000e+03],\n",
       "        [-1.0000e+03, -1.0000e+03, -1.0000e+03, -1.0000e+03, -1.0000e+03],\n",
       "        [-1.0000e+03, -1.0000e+03, -1.0000e+03, -1.0000e+03, -1.0000e+03],\n",
       "        [-1.0000e+03, -1.0000e+03, -1.0000e+03, -1.0000e+03, -1.0000e+03],\n",
       "        [-1.0000e+03, -1.0000e+03, -1.0000e+03, -1.0000e+03, -1.0000e+03],\n",
       "        [-1.0000e+03, -1.0000e+03, -1.0000e+03, -1.0000e+03, -1.0000e+03],\n",
       "        [-1.0000e+03, -1.0000e+03, -1.0000e+03, -1.0000e+03, -1.0000e+03],\n",
       "        [-1.0000e+03, -1.0000e+03, -1.0000e+03, -1.0000e+03, -1.0000e+03],\n",
       "        [-1.0000e+03, -1.0000e+03, -1.0000e+03, -1.0000e+03, -1.0000e+03]])"
      ]
     },
     "execution_count": 26,
     "metadata": {},
     "output_type": "execute_result"
    }
   ],
   "source": [
    "Y[0]"
   ]
  },
  {
   "cell_type": "code",
   "execution_count": 24,
   "metadata": {},
   "outputs": [
    {
     "data": {
      "text/plain": [
       "tensor([1.])"
      ]
     },
     "execution_count": 24,
     "metadata": {},
     "output_type": "execute_result"
    }
   ],
   "source": [
    "S[0]"
   ]
  },
  {
   "cell_type": "code",
   "execution_count": 20,
   "metadata": {},
   "outputs": [
    {
     "data": {
      "text/plain": [
       "tensor([[    1.],\n",
       "        [-1000.],\n",
       "        [-1000.],\n",
       "        [-1000.],\n",
       "        [-1000.],\n",
       "        [-1000.],\n",
       "        [-1000.],\n",
       "        [-1000.],\n",
       "        [-1000.]])"
      ]
     },
     "execution_count": 20,
     "metadata": {},
     "output_type": "execute_result"
    }
   ],
   "source": [
    "X[0]"
   ]
  },
  {
   "cell_type": "code",
   "execution_count": 21,
   "metadata": {},
   "outputs": [
    {
     "data": {
      "text/plain": [
       "tensor([[0., 1., 1., 1., 0.],\n",
       "        [0., 0., 0., 0., 0.],\n",
       "        [0., 0., 0., 0., 0.],\n",
       "        [0., 0., 0., 0., 0.],\n",
       "        [0., 0., 0., 0., 0.],\n",
       "        [0., 0., 0., 0., 0.],\n",
       "        [0., 0., 0., 0., 0.],\n",
       "        [0., 0., 0., 0., 0.],\n",
       "        [0., 0., 0., 0., 0.]])"
      ]
     },
     "execution_count": 21,
     "metadata": {},
     "output_type": "execute_result"
    }
   ],
   "source": [
    "M[0]"
   ]
  },
  {
   "cell_type": "code",
   "execution_count": 15,
   "metadata": {},
   "outputs": [
    {
     "name": "stdout",
     "output_type": "stream",
     "text": [
      "Max visits: 9\n"
     ]
    }
   ],
   "source": [
    "data_loader, collect_dict, unique_pid = parse_data(\n",
    "            data.values, max_visits=max_visits, device=\"cpu\")\n"
   ]
  },
  {
   "cell_type": "code",
   "execution_count": 107,
   "metadata": {},
   "outputs": [
    {
     "data": {
      "text/plain": [
       "0.01"
      ]
     },
     "execution_count": 107,
     "metadata": {},
     "output_type": "execute_result"
    }
   ],
   "source": [
    "b_vae"
   ]
  },
  {
   "cell_type": "code",
   "execution_count": 111,
   "metadata": {},
   "outputs": [],
   "source": [
    "import os\n",
    "os.makedirs('runs', exist_ok=True)\n"
   ]
  },
  {
   "cell_type": "code",
   "execution_count": 16,
   "metadata": {},
   "outputs": [],
   "source": [
    "b_vae, C, d_s, d_h, d_rnn, reg_type, lr = 0.01, 0.0, 10, 10, 20, 'l1', 0.1\n",
    "epochs = 50\n",
    "device = 'cpu'\n",
    "max_delta = 5.\n",
    "learn_time = True"
   ]
  },
  {
   "cell_type": "code",
   "execution_count": 33,
   "metadata": {},
   "outputs": [
    {
     "data": {
      "text/plain": [
       "array([[[    1.],\n",
       "        [    2.],\n",
       "        [    3.],\n",
       "        ...,\n",
       "        [    7.],\n",
       "        [    8.],\n",
       "        [    9.]],\n",
       "\n",
       "       [[    1.],\n",
       "        [-1000.],\n",
       "        [-1000.],\n",
       "        ...,\n",
       "        [-1000.],\n",
       "        [-1000.],\n",
       "        [-1000.]],\n",
       "\n",
       "       [[    1.],\n",
       "        [    2.],\n",
       "        [    3.],\n",
       "        ...,\n",
       "        [-1000.],\n",
       "        [-1000.],\n",
       "        [-1000.]],\n",
       "\n",
       "       ...,\n",
       "\n",
       "       [[    1.],\n",
       "        [    2.],\n",
       "        [    3.],\n",
       "        ...,\n",
       "        [    7.],\n",
       "        [    8.],\n",
       "        [    9.]],\n",
       "\n",
       "       [[    1.],\n",
       "        [    2.],\n",
       "        [    3.],\n",
       "        ...,\n",
       "        [-1000.],\n",
       "        [-1000.],\n",
       "        [-1000.]],\n",
       "\n",
       "       [[    1.],\n",
       "        [    2.],\n",
       "        [    3.],\n",
       "        ...,\n",
       "        [    7.],\n",
       "        [-1000.],\n",
       "        [-1000.]]], dtype=float32)"
      ]
     },
     "execution_count": 33,
     "metadata": {},
     "output_type": "execute_result"
    }
   ],
   "source": [
    "train_data_dict['obs_t_collect']\n"
   ]
  },
  {
   "cell_type": "code",
   "execution_count": 28,
   "metadata": {},
   "outputs": [],
   "source": [
    "assert not torch.isnan(X).any(), \"Input X contains NaN values\"\n",
    "assert not torch.isnan(Y).any(), \"Input Y contains NaN values\"\n"
   ]
  },
  {
   "cell_type": "code",
   "execution_count": null,
   "metadata": {},
   "outputs": [
    {
     "name": "stdout",
     "output_type": "stream",
     "text": [
      "No saved model found at fname, starting fresh training.\n",
      "Max sequence length: 9\n",
      "All-zero sequences: tensor([False, False, False,  ..., False, False, False])\n",
      "Sequence lengths: [3, 6, 1, 2, 9, 7, 6, 4, 9, 8, 1, 5, 1, 7, 1, 2, 1, 1, 1, 7, 7, 8, 4, 7, 3, 2, 2, 2, 4, 1, 1, 9, 7, 1, 1, 3, 9, 9, 5, 3, 4, 1, 1, 1, 2, 1, 9, 1, 1, 2, 1, 9, 1, 1, 1, 3, 9, 1, 4, 2, 1, 9, 2, 1, 1, 3, 7, 1, 5, 1, 4, 1, 1, 7, 2, 1, 1, 9, 7, 2, 6, 8, 1, 5, 6, 6, 3, 9, 6, 3, 5, 2, 1, 2, 4, 7, 1, 4, 1, 5, 1, 4, 1, 2, 3, 7, 1, 9, 3, 3, 4, 1, 2, 4, 7, 1, 1, 4, 7, 7, 1, 4, 1, 2, 1, 1, 5, 9, 9, 1, 9, 4, 1, 7, 9, 4, 1, 6, 3, 1, 2, 5, 1, 1, 7, 1, 2, 1, 4, 7, 1, 9, 3, 7, 5, 4, 1, 2, 2, 1, 7, 2, 4, 6, 1, 1, 3, 1, 9, 1, 9, 5, 3, 7, 9, 1, 1, 4, 3, 8, 5, 1, 3, 1, 9, 3, 4, 2, 5, 6, 1, 2, 4, 3, 2, 1, 2, 2, 2, 5, 5, 8, 2, 4, 4, 6, 5, 5, 2, 1, 9, 4, 3, 1, 7, 3, 5, 3, 5, 7, 9, 1, 1, 3, 9, 5, 4, 1, 5, 1, 7, 9, 1, 1, 8, 1, 1, 4, 4, 7, 4, 2, 6, 3, 5, 5, 4, 6, 5, 3, 3, 1, 6, 9, 5, 4, 1, 7, 5, 7, 1, 1, 4, 1, 2, 9, 1, 5, 5, 5, 2, 2, 1, 1, 8, 2, 4, 1, 7, 5, 7, 5, 1, 2, 1, 4, 5, 9, 1, 1, 1, 3, 2, 1, 1, 6, 7, 1, 2, 4, 4, 1, 7, 4, 1, 1, 6, 1, 6, 6, 7, 7, 1, 3, 5, 2, 5, 3, 1, 1, 4, 8, 9, 3, 9, 2, 1, 5, 3, 1, 5, 2, 1, 9, 5, 2, 1, 4, 1, 5, 1, 1, 4, 4, 2, 1, 7, 4, 3, 8, 1, 5, 6, 6, 1, 1, 4, 4, 4, 6, 1, 1, 1, 1, 6, 1, 4, 1, 9, 3, 5, 7, 2, 2, 4, 9, 1, 2, 5, 3, 6, 9, 1, 8, 2, 2, 2, 2, 4, 1, 1, 1, 4, 7, 1, 4, 1, 1, 1, 1, 9, 9, 4, 1, 5, 5, 3, 1, 9, 4, 1, 2, 1, 1, 8, 2, 2, 9, 1, 7, 4, 6, 1, 1, 5, 2, 2, 5, 1, 1, 4, 1, 1, 1, 3, 2, 5, 1, 5, 3, 1, 8, 7, 3, 1, 9, 8, 2, 5, 4, 6, 2, 7, 1, 2, 1, 1, 6, 5, 6, 2, 6, 1, 9, 4, 4, 6, 3, 4, 1, 2, 4, 3, 3, 9, 5, 4, 8, 1, 1, 3, 4, 2, 4, 4, 5, 2, 2, 7, 1, 6, 1, 2, 8, 1, 4, 6, 1, 1, 5, 1, 5, 1, 4, 2, 1, 5, 7, 2, 1, 1, 1, 5, 9, 7, 7, 7, 1, 1, 4, 1, 1, 3, 1, 9, 6, 1, 1, 8, 6, 1, 2, 7, 3, 9, 1, 6, 2, 9, 6, 3, 1, 1, 1, 1, 5, 1, 3, 5, 6, 9, 6, 5, 4, 9, 6, 7, 2, 1, 8, 4, 1, 1, 4, 1, 3, 1, 7, 1, 1, 6, 1, 5, 7, 2, 1, 1, 8, 5, 5, 2, 1, 4, 1, 4, 7, 2, 2, 3, 9, 9, 9, 5, 1, 1, 2, 1, 7, 2, 6, 7, 2, 7, 4, 8, 4, 1, 5, 4, 4, 9, 7, 1, 8, 1, 7, 4, 7, 3, 1, 1, 1, 6, 7, 1, 1, 8, 2, 7, 1, 4, 9, 1, 5, 9, 2, 1, 5, 5, 4, 8, 1, 3, 7, 1, 4, 2, 1, 8, 1, 2, 1, 1, 1, 7, 1, 1, 4, 3, 8, 7, 6, 2, 5, 1, 9, 4, 1, 9, 2, 7, 5, 1, 2, 1, 1, 2, 7, 1, 3, 1, 5, 1, 2, 7, 2, 4, 2, 6, 4, 1, 3, 1, 1, 7, 9, 2, 9, 9, 2, 1, 2, 9, 8, 6, 6, 1, 1, 3, 1, 6, 1, 8, 2, 3, 6, 9, 8, 1, 1, 1, 7, 6, 6, 4, 2, 3, 7, 1, 3, 9, 8, 1, 9, 4, 5, 2, 1, 3, 3, 6, 2, 7, 8, 1, 1, 9, 4, 8, 3, 3, 1, 4, 7, 5, 6, 7, 1, 1, 3, 5, 1, 2, 6, 1, 1, 1, 1, 7, 2, 1, 9, 4, 2, 1, 9, 6, 2, 1, 2, 3, 1, 4, 1, 1, 5, 1, 1, 1, 1, 1, 6, 1, 1, 5, 9, 7, 1, 8, 9, 6, 1, 8, 1, 5, 5, 8, 1, 1, 6, 1, 2, 2, 1, 8, 3, 1, 2, 9, 4, 4, 3, 1, 1, 3, 5, 3, 4, 6, 6, 3, 5, 3, 4, 9, 4, 8, 4, 5, 6, 4, 7, 1, 2, 1, 1, 3, 2, 8, 3, 7, 1, 1, 2, 1, 1, 9, 9, 2, 9, 9, 6, 1, 9, 2, 6, 7, 5, 7, 1, 7, 5, 9, 1, 7, 2, 4, 5, 4, 8, 8, 6, 2, 1, 2, 1, 5, 7, 2, 5, 2, 1, 3, 7, 3, 5, 5, 6, 1, 5, 1, 4, 9, 3, 2, 5, 3, 4, 1, 7, 1, 9, 3, 4, 1, 6, 3, 7, 9, 7, 5, 1, 1, 1, 1, 1, 4, 4, 6, 2, 9, 1, 2, 5, 7, 1, 9, 5, 2, 2, 1, 5, 2, 1, 4, 1, 1, 1, 1, 4, 6, 1, 1, 4, 1, 1, 9, 2, 1, 3, 7, 9, 1, 5, 3, 3, 2, 1, 6, 1, 1, 4, 4, 4, 1, 4, 4, 2, 3, 9, 1, 8, 7, 7, 2, 1, 1, 1, 1, 1, 4, 4, 7, 4, 5, 2, 9, 6, 1, 7, 9, 6, 1, 3, 2, 6, 9, 4, 4, 2, 3, 1, 6, 1, 1, 8, 4, 6, 4, 4, 4, 1, 4, 3, 2, 4, 1, 1, 5, 5, 7, 5, 9, 7, 1, 4, 2, 1, 1, 4, 4, 8, 2, 7, 2, 5, 8, 8, 1, 4, 4, 1, 4, 1, 6, 1, 2, 9, 2, 5, 2, 7, 4, 3, 1, 6, 3, 7, 2, 1, 1, 3, 1, 2, 3, 3, 1, 8, 2, 8, 5, 9, 3, 1, 7, 7, 6, 1, 8, 3, 1, 8, 6, 1, 6, 5, 4, 2, 7, 7, 1, 6, 1, 1, 1, 6, 7, 3, 7, 1, 5, 1, 8, 8, 4, 9, 9, 1, 2, 5, 2, 4, 1, 6, 5, 1, 3, 1, 5, 4, 3, 8, 3, 1, 2, 6, 4, 3, 1, 5, 1, 9, 1, 9, 1, 1, 9, 7, 1, 6, 7, 4, 6, 1, 4, 4, 2, 1, 3, 1, 2, 4, 1, 9, 1, 4, 1, 3, 2, 4, 7, 4, 2, 1, 1, 1, 1, 2, 3, 1, 2, 6, 9, 8, 9, 2, 1, 1, 9, 3, 1, 7, 3, 1, 1, 1, 9, 2, 1, 2, 3, 5, 9, 1, 1, 1, 6, 2, 5, 1, 1, 3, 1, 3, 1, 7, 1, 5, 1, 3, 4, 7, 5, 9, 5, 6, 1, 1, 2, 2, 1, 1, 1, 9, 9, 9, 3, 1, 1, 6, 7, 2, 2, 1, 7, 5, 1, 1, 8, 1, 7, 3, 7, 1, 1, 6, 1, 1, 4, 8, 5, 2, 7, 6, 4, 9, 3, 2, 9, 1, 1, 1, 1, 1, 1, 9, 1, 8, 2, 2, 8, 7, 6, 2, 6, 8, 6, 6, 7, 2, 7, 2, 8, 1, 8, 9, 1, 8, 1, 4, 3, 1, 3, 8, 1, 1, 1, 1, 9, 1, 9, 3, 2, 9, 8, 2, 9, 2, 7, 7, 1, 1, 1, 1, 4, 1, 9, 4, 9, 1, 5, 6, 7, 7, 4, 9, 8, 1, 2, 2, 4, 2, 1, 1, 4, 5, 9, 7, 7, 8, 1, 5, 5, 6, 4, 3, 9, 1, 1, 2, 7, 4, 1, 8, 4, 1, 8, 2, 5, 2, 1, 1, 2, 1, 1, 6, 4, 7, 2, 8, 1, 3, 8, 9, 3, 6, 7, 5, 1, 2, 5, 4, 4, 6, 3, 7, 2, 1, 2, 1, 2, 1, 4, 9, 8, 4, 3, 3, 1, 8, 3, 9, 2, 6, 1, 3, 2, 7, 9, 3, 7, 1, 7, 1, 1, 9, 1, 1, 2, 1, 1, 7, 6, 1, 7, 6, 1, 7, 1, 7, 2, 5, 4, 6, 6, 8, 9, 7, 3, 1, 9, 1, 5, 8, 4, 6, 6, 9, 9, 1, 1, 9, 7, 9, 3, 3, 6, 1, 1, 7, 2, 2, 4, 5, 1, 1, 6, 1, 4, 5, 6, 5, 8, 7, 1, 4, 1, 4, 1, 9, 7, 5, 5, 4, 1, 1, 7, 3, 4, 1, 5, 5, 1, 7, 4, 1, 1, 3, 5, 7, 7, 1, 6, 2, 3, 3, 8, 1, 2, 2, 9, 2, 5, 1, 3, 1, 7, 1, 1, 9, 7, 1, 6, 3, 5, 1, 4, 1, 8, 3, 9, 7, 1, 9, 2, 3, 6, 7, 3, 1, 1, 6, 1, 5, 1, 6, 3, 4, 4, 1, 3, 2, 1, 6, 2, 8, 1, 2, 5, 5, 5, 5, 2, 2, 2, 4, 1, 2, 1, 6, 1, 7, 5, 1, 3, 7, 5, 9, 5, 1, 1, 7, 1, 1, 6, 4, 1, 7, 2, 7, 1, 7, 2, 1]\n",
      "Checking X: 0 NaNs\n",
      "Checking Y: 0 NaNs\n",
      "NaNs in hidden: 32080\n",
      "🔍 NaNs in hid: 32080\n",
      "mu shape: torch.Size([1604, 10])\n",
      "🔍 NaNs in mu: 16040\n",
      "🔍 NaNs found in z\n",
      "z shape: (1604, 10)\n",
      "z NaNs count: 16040\n",
      "Example values: [[nan nan nan nan nan nan nan nan nan nan]\n",
      " [nan nan nan nan nan nan nan nan nan nan]\n",
      " [nan nan nan nan nan nan nan nan nan nan]\n",
      " [nan nan nan nan nan nan nan nan nan nan]\n",
      " [nan nan nan nan nan nan nan nan nan nan]]\n",
      "z has nan in it\n",
      "> \u001b[1;32mc:\\users\\nss_1\\clustering-interval-censored\\model\\models.py\u001b[0m(745)\u001b[0;36mget_subtypes\u001b[1;34m()\u001b[0m\n",
      "\u001b[1;32m    743 \u001b[1;33m            \u001b[0mprint\u001b[0m\u001b[1;33m(\u001b[0m\u001b[1;34m'z has nan in it'\u001b[0m\u001b[1;33m)\u001b[0m\u001b[1;33m\u001b[0m\u001b[0m\n",
      "\u001b[0m\u001b[1;32m    744 \u001b[1;33m            \u001b[1;32mimport\u001b[0m \u001b[0mpdb\u001b[0m\u001b[1;33m;\u001b[0m \u001b[0mpdb\u001b[0m\u001b[1;33m.\u001b[0m\u001b[0mset_trace\u001b[0m\u001b[1;33m(\u001b[0m\u001b[1;33m)\u001b[0m\u001b[1;33m\u001b[0m\u001b[0m\n",
      "\u001b[0m\u001b[1;32m--> 745 \u001b[1;33m        \u001b[0mkm\u001b[0m\u001b[1;33m.\u001b[0m\u001b[0mfit\u001b[0m\u001b[1;33m(\u001b[0m\u001b[0mz\u001b[0m\u001b[1;33m)\u001b[0m\u001b[1;33m\u001b[0m\u001b[0m\n",
      "\u001b[0m\u001b[1;32m    746 \u001b[1;33m        \u001b[0mself\u001b[0m\u001b[1;33m.\u001b[0m\u001b[0msubtypes_km\u001b[0m \u001b[1;33m=\u001b[0m \u001b[0mkm\u001b[0m\u001b[1;33m\u001b[0m\u001b[0m\n",
      "\u001b[0m\u001b[1;32m    747 \u001b[1;33m\u001b[1;33m\u001b[0m\u001b[0m\n",
      "\u001b[0m\n"
     ]
    }
   ],
   "source": [
    "\n",
    "\n",
    "model = Sublign(d_s, d_h, d_rnn, C=C, dim_biomarkers=num_output_dims,\n",
    "                sigmoid=True, reg_type=reg_type, auto_delta=True,\n",
    "                max_delta=max_delta, learn_time=learn_time)\n",
    "\n",
    "# Fit model\n",
    "model.fit(\n",
    "    train_data_loader,\n",
    "    test_data_loader,\n",
    "    epochs,\n",
    "    lr=lr,\n",
    "    verbose=True,\n",
    "    fname='C:/Users/nss_1/clustering-interval-censored/model/runs/ppmi.pt',\n",
    "    eval_freq=25\n",
    ")\n",
    "\n",
    "\n",
    "# Evaluate model\n",
    "results = model.score(train_data_dict, test_data_dict)\n",
    "print('PPMI Test ARI: %.3f' % results['ari'])\n",
    "\n",
    "# Extract results\n",
    "subtypes = model.get_subtypes_datadict(collect_dict)\n",
    "labels = model.get_labels(collect_dict)\n",
    "deltas = model.get_deltas(collect_dict)\n",
    "\n",
    "# Move to numpy\n",
    "subtypes = subtypes.cpu().detach().numpy()\n",
    "labels = labels.cpu().detach().numpy()\n",
    "deltas = deltas.cpu().detach().numpy()\n",
    "\n",
    "\n",
    "# Save\n",
    "pickle.dump((labels, deltas, subtypes), open('C:/Users/nss_1/clustering-interval-censored/model/runs/ppmi_icml.pk', 'wb'))\n"
   ]
  },
  {
   "cell_type": "code",
   "execution_count": null,
   "metadata": {},
   "outputs": [],
   "source": [
    "%debug"
   ]
  }
 ],
 "metadata": {
  "kernelspec": {
   "display_name": "venv",
   "language": "python",
   "name": "python3"
  },
  "language_info": {
   "codemirror_mode": {
    "name": "ipython",
    "version": 3
   },
   "file_extension": ".py",
   "mimetype": "text/x-python",
   "name": "python",
   "nbconvert_exporter": "python",
   "pygments_lexer": "ipython3",
   "version": "3.7.0"
  }
 },
 "nbformat": 4,
 "nbformat_minor": 4
}
